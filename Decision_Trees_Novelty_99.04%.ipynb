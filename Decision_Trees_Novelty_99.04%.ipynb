{
 "cells": [
  {
   "cell_type": "code",
   "execution_count": 1,
   "id": "0c4d5099",
   "metadata": {
    "_cell_guid": "b1076dfc-b9ad-4769-8c92-a6c4dae69d19",
    "_uuid": "8f2839f25d086af736a60e9eeb907d3b93b6e0e5",
    "execution": {
     "iopub.execute_input": "2025-03-26T21:56:30.123017Z",
     "iopub.status.busy": "2025-03-26T21:56:30.122600Z",
     "iopub.status.idle": "2025-03-26T21:56:31.191554Z",
     "shell.execute_reply": "2025-03-26T21:56:31.190125Z"
    },
    "papermill": {
     "duration": 1.076938,
     "end_time": "2025-03-26T21:56:31.193651",
     "exception": false,
     "start_time": "2025-03-26T21:56:30.116713",
     "status": "completed"
    },
    "tags": []
   },
   "outputs": [
    {
     "name": "stdout",
     "output_type": "stream",
     "text": [
      "/kaggle/input/covid-19-prediction/master_dataset.csv\n"
     ]
    }
   ],
   "source": [
    "# This Python 3 environment comes with many helpful analytics libraries installed\n",
    "# It is defined by the kaggle/python Docker image: https://github.com/kaggle/docker-python\n",
    "# For example, here's several helpful packages to load\n",
    "\n",
    "import numpy as np # linear algebra\n",
    "import pandas as pd # data processing, CSV file I/O (e.g. pd.read_csv)\n",
    "\n",
    "# Input data files are available in the read-only \"../input/\" directory\n",
    "# For example, running this (by clicking run or pressing Shift+Enter) will list all files under the input directory\n",
    "\n",
    "import os\n",
    "for dirname, _, filenames in os.walk('/kaggle/input'):\n",
    "    for filename in filenames:\n",
    "        print(os.path.join(dirname, filename))\n",
    "\n",
    "# You can write up to 20GB to the current directory (/kaggle/working/) that gets preserved as output when you create a version using \"Save & Run All\" \n",
    "# You can also write temporary files to /kaggle/temp/, but they won't be saved outside of the current session"
   ]
  },
  {
   "cell_type": "code",
   "execution_count": 2,
   "id": "c61827b0",
   "metadata": {
    "execution": {
     "iopub.execute_input": "2025-03-26T21:56:31.203185Z",
     "iopub.status.busy": "2025-03-26T21:56:31.202643Z",
     "iopub.status.idle": "2025-03-26T21:56:31.207371Z",
     "shell.execute_reply": "2025-03-26T21:56:31.206236Z"
    },
    "papermill": {
     "duration": 0.011412,
     "end_time": "2025-03-26T21:56:31.209233",
     "exception": false,
     "start_time": "2025-03-26T21:56:31.197821",
     "status": "completed"
    },
    "tags": []
   },
   "outputs": [],
   "source": [
    "import pandas as pd\n",
    "import numpy as np"
   ]
  },
  {
   "cell_type": "code",
   "execution_count": 3,
   "id": "fe30d9d9",
   "metadata": {
    "execution": {
     "iopub.execute_input": "2025-03-26T21:56:31.218149Z",
     "iopub.status.busy": "2025-03-26T21:56:31.217766Z",
     "iopub.status.idle": "2025-03-26T21:56:41.978614Z",
     "shell.execute_reply": "2025-03-26T21:56:41.977517Z"
    },
    "papermill": {
     "duration": 10.76742,
     "end_time": "2025-03-26T21:56:41.980667",
     "exception": false,
     "start_time": "2025-03-26T21:56:31.213247",
     "status": "completed"
    },
    "tags": []
   },
   "outputs": [],
   "source": [
    "df=pd.read_csv(\"/kaggle/input/covid-19-prediction/master_dataset.csv\",low_memory=False)"
   ]
  },
  {
   "cell_type": "code",
   "execution_count": 4,
   "id": "26dc65e7",
   "metadata": {
    "execution": {
     "iopub.execute_input": "2025-03-26T21:56:41.989309Z",
     "iopub.status.busy": "2025-03-26T21:56:41.988919Z",
     "iopub.status.idle": "2025-03-26T21:56:42.620251Z",
     "shell.execute_reply": "2025-03-26T21:56:42.619069Z"
    },
    "papermill": {
     "duration": 0.63785,
     "end_time": "2025-03-26T21:56:42.622275",
     "exception": false,
     "start_time": "2025-03-26T21:56:41.984425",
     "status": "completed"
    },
    "tags": []
   },
   "outputs": [],
   "source": [
    "current_columns = df.columns.tolist()\n",
    "new_columns = current_columns[1:] + ['empty_column']\n",
    "df_fixed = df.copy()\n",
    "df_fixed.columns = new_columns\n",
    "df = df_fixed.drop('empty_column', axis=1)"
   ]
  },
  {
   "cell_type": "code",
   "execution_count": 5,
   "id": "1ad0e9ec",
   "metadata": {
    "execution": {
     "iopub.execute_input": "2025-03-26T21:56:42.630951Z",
     "iopub.status.busy": "2025-03-26T21:56:42.630569Z",
     "iopub.status.idle": "2025-03-26T21:56:42.772138Z",
     "shell.execute_reply": "2025-03-26T21:56:42.770890Z"
    },
    "papermill": {
     "duration": 0.148111,
     "end_time": "2025-03-26T21:56:42.774045",
     "exception": false,
     "start_time": "2025-03-26T21:56:42.625934",
     "status": "completed"
    },
    "tags": []
   },
   "outputs": [],
   "source": [
    "df = df[['sex', 'age', 'bmi','smoking','alcohol','cannabis','amphetamines','cocaine','contacts_count','working','rate_reducing_risk_single','rate_reducing_mask','covid19_symptoms','covid19_contact','asthma','kidney_disease','liver_disease','compromised_immune','heart_disease','lung_disease','diabetes','hiv_positive','hypertension','other_chronic','nursing_home','health_worker','covid19_positive']]"
   ]
  },
  {
   "cell_type": "code",
   "execution_count": 6,
   "id": "29e762e5",
   "metadata": {
    "execution": {
     "iopub.execute_input": "2025-03-26T21:56:42.782843Z",
     "iopub.status.busy": "2025-03-26T21:56:42.782436Z",
     "iopub.status.idle": "2025-03-26T21:56:44.047612Z",
     "shell.execute_reply": "2025-03-26T21:56:44.046362Z"
    },
    "papermill": {
     "duration": 1.271964,
     "end_time": "2025-03-26T21:56:44.049709",
     "exception": false,
     "start_time": "2025-03-26T21:56:42.777745",
     "status": "completed"
    },
    "tags": []
   },
   "outputs": [],
   "source": [
    "def process_age_column(df, age_column='age'):\n",
    "    \"\"\"\n",
    "    Process age column containing string ranges like '20_30' to their average values\n",
    "    and handle null values by replacing them with mean.\n",
    "    \n",
    "    Parameters:\n",
    "    df: pandas DataFrame\n",
    "    age_column: str, name of the age column (default='age')\n",
    "    \n",
    "    Returns:\n",
    "    pandas Series with processed age values\n",
    "    \"\"\"\n",
    "    def extract_average(age_str):\n",
    "        if pd.isna(age_str):\n",
    "            return np.nan\n",
    "        try:\n",
    "            # Split the string on '_' and convert to integers\n",
    "            start, end = map(int, str(age_str).split('_'))\n",
    "            return (start + end) / 2\n",
    "        except:\n",
    "            return np.nan\n",
    "    \n",
    "    # Convert string ranges to averages\n",
    "    processed_ages = df[age_column].apply(extract_average)\n",
    "    \n",
    "    # Replace null values with mean\n",
    "    mean_age = processed_ages.mean()\n",
    "    processed_ages = processed_ages.fillna(mean_age)\n",
    "    \n",
    "    return processed_ages\n",
    "\n",
    "df['age'] = process_age_column(df, age_column='age')"
   ]
  },
  {
   "cell_type": "code",
   "execution_count": 7,
   "id": "d5f4fe2a",
   "metadata": {
    "execution": {
     "iopub.execute_input": "2025-03-26T21:56:44.058541Z",
     "iopub.status.busy": "2025-03-26T21:56:44.058191Z",
     "iopub.status.idle": "2025-03-26T21:56:44.535190Z",
     "shell.execute_reply": "2025-03-26T21:56:44.533897Z"
    },
    "papermill": {
     "duration": 0.483735,
     "end_time": "2025-03-26T21:56:44.537284",
     "exception": false,
     "start_time": "2025-03-26T21:56:44.053549",
     "status": "completed"
    },
    "tags": []
   },
   "outputs": [],
   "source": [
    "categorical_cols = ['sex', 'age', 'smoking', 'alcohol', 'working', 'cannabis', \n",
    "                       'amphetamines', 'cocaine']\n",
    "for col in categorical_cols:\n",
    "    if col in df.columns:\n",
    "        df[col] = df[col].fillna(df[col].mode()[0])"
   ]
  },
  {
   "cell_type": "code",
   "execution_count": 8,
   "id": "7194c0cc",
   "metadata": {
    "execution": {
     "iopub.execute_input": "2025-03-26T21:56:44.545703Z",
     "iopub.status.busy": "2025-03-26T21:56:44.545364Z",
     "iopub.status.idle": "2025-03-26T21:56:44.604777Z",
     "shell.execute_reply": "2025-03-26T21:56:44.603626Z"
    },
    "papermill": {
     "duration": 0.066022,
     "end_time": "2025-03-26T21:56:44.606889",
     "exception": false,
     "start_time": "2025-03-26T21:56:44.540867",
     "status": "completed"
    },
    "tags": []
   },
   "outputs": [],
   "source": [
    "numerical_cols = ['bmi', 'contacts_count', 'rate_reducing_mask']\n",
    "for col in numerical_cols:\n",
    "    if col in df.columns:\n",
    "        df[col] = df[col].fillna(df[col].mean())"
   ]
  },
  {
   "cell_type": "code",
   "execution_count": 9,
   "id": "30b3637f",
   "metadata": {
    "execution": {
     "iopub.execute_input": "2025-03-26T21:56:44.617056Z",
     "iopub.status.busy": "2025-03-26T21:56:44.616404Z",
     "iopub.status.idle": "2025-03-26T21:56:45.331596Z",
     "shell.execute_reply": "2025-03-26T21:56:45.330472Z"
    },
    "papermill": {
     "duration": 0.723022,
     "end_time": "2025-03-26T21:56:45.333659",
     "exception": false,
     "start_time": "2025-03-26T21:56:44.610637",
     "status": "completed"
    },
    "tags": []
   },
   "outputs": [],
   "source": [
    "nominal_cols = ['sex', 'smoking', 'working']\n",
    "df_encoded = pd.get_dummies(df, columns=nominal_cols)\n",
    "drug_cols = ['cannabis', 'amphetamines', 'cocaine']\n",
    "for col in drug_cols:\n",
    "    if col in df_encoded.columns:\n",
    "        df_encoded[col] = pd.to_numeric(df_encoded[col], errors='coerce')\n",
    "df=df_encoded"
   ]
  },
  {
   "cell_type": "code",
   "execution_count": 10,
   "id": "501e48d7",
   "metadata": {
    "execution": {
     "iopub.execute_input": "2025-03-26T21:56:45.342238Z",
     "iopub.status.busy": "2025-03-26T21:56:45.341843Z",
     "iopub.status.idle": "2025-03-26T21:56:50.064624Z",
     "shell.execute_reply": "2025-03-26T21:56:50.063302Z"
    },
    "papermill": {
     "duration": 4.729303,
     "end_time": "2025-03-26T21:56:50.066699",
     "exception": false,
     "start_time": "2025-03-26T21:56:45.337396",
     "status": "completed"
    },
    "tags": []
   },
   "outputs": [],
   "source": [
    "from sklearn.preprocessing import MinMaxScaler\n",
    "from imblearn.over_sampling import SMOTE\n",
    "\n",
    "scaler = MinMaxScaler()\n",
    "cols_to_normalize = [col for col in df.columns if col != 'covid19_positive']\n",
    "df_normalized = df.copy()\n",
    "df_normalized[cols_to_normalize] = scaler.fit_transform(df[cols_to_normalize])\n",
    "df=df_normalized"
   ]
  },
  {
   "cell_type": "code",
   "execution_count": 11,
   "id": "2c2ee56e",
   "metadata": {
    "execution": {
     "iopub.execute_input": "2025-03-26T21:56:50.075629Z",
     "iopub.status.busy": "2025-03-26T21:56:50.074903Z",
     "iopub.status.idle": "2025-03-26T22:50:13.830230Z",
     "shell.execute_reply": "2025-03-26T22:50:13.828727Z"
    },
    "papermill": {
     "duration": 3203.762124,
     "end_time": "2025-03-26T22:50:13.832587",
     "exception": false,
     "start_time": "2025-03-26T21:56:50.070463",
     "status": "completed"
    },
    "tags": []
   },
   "outputs": [
    {
     "name": "stdout",
     "output_type": "stream",
     "text": [
      "Fitting 5 folds for each of 540 candidates, totalling 2700 fits\n",
      "Best Hyperparameters: {'criterion': 'gini', 'max_depth': 10, 'max_features': None, 'min_samples_leaf': 4, 'min_samples_split': 2, 'splitter': 'best'}\n",
      "Best CV Accuracy: 0.9900469013361995\n",
      "\n",
      "Test Metrics for the Best Decision Tree Model:\n",
      "Accuracy: 0.9904194717762818\n",
      "Precision: 0.9885452644291681\n",
      "Recall: 0.9904194717762818\n",
      "F1 Score: 0.9884624964525927\n",
      "\n",
      "Classification Report:\n",
      "               precision    recall  f1-score   support\n",
      "\n",
      "           0       0.99      1.00      1.00    202292\n",
      "           1       0.72      0.30      0.42      2394\n",
      "\n",
      "    accuracy                           0.99    204686\n",
      "   macro avg       0.85      0.65      0.71    204686\n",
      "weighted avg       0.99      0.99      0.99    204686\n",
      "\n"
     ]
    }
   ],
   "source": [
    "import pandas as pd\n",
    "import numpy as np\n",
    "from sklearn.model_selection import train_test_split, GridSearchCV\n",
    "from sklearn.metrics import classification_report, accuracy_score, precision_score, recall_score, f1_score\n",
    "from sklearn.tree import DecisionTreeClassifier\n",
    "\n",
    "# -------------------------------\n",
    "# Assume your dataframe 'df' is already preprocessed\n",
    "# 'df' has 27 features (columns except 'covid19_positive') and the target 'covid19_positive'\n",
    "# -------------------------------\n",
    "# Split features and target\n",
    "X = df.drop('covid19_positive', axis=1).values  # shape: (n_samples, 27)\n",
    "y = df['covid19_positive'].values\n",
    "\n",
    "# Split data into training and testing sets\n",
    "X_train, X_test, y_train, y_test = train_test_split(X, y, test_size=0.2, random_state=42)\n",
    "\n",
    "# Define a grid of hyperparameters to search\n",
    "param_grid = {\n",
    "    'criterion': ['gini', 'entropy'],            # How to measure the quality of a split\n",
    "    'splitter': ['best', 'random'],                # The strategy used to choose the split at each node\n",
    "    'max_depth': [None, 5, 10, 15, 20],            # Maximum depth of the tree\n",
    "    'min_samples_split': [2, 5, 10],               # Minimum number of samples required to split an internal node\n",
    "    'min_samples_leaf': [1, 2, 4],                 # Minimum number of samples required to be at a leaf node\n",
    "    'max_features': [None, 'sqrt', 'log2']         # The number of features to consider when looking for the best split\n",
    "}\n",
    "\n",
    "# Create a Decision Tree Classifier\n",
    "dt_classifier = DecisionTreeClassifier(random_state=42)\n",
    "\n",
    "# Set up the grid search with 5-fold cross-validation\n",
    "grid_search = GridSearchCV(estimator=dt_classifier,\n",
    "                           param_grid=param_grid,\n",
    "                           scoring='accuracy',\n",
    "                           cv=5,\n",
    "                           verbose=1,\n",
    "                           n_jobs=-1)\n",
    "\n",
    "# Perform grid search on training data\n",
    "grid_search.fit(X_train, y_train)\n",
    "\n",
    "# Get the best estimator (model with best hyperparameters)\n",
    "best_dt_model = grid_search.best_estimator_\n",
    "\n",
    "# Use the best model to predict on the test set\n",
    "y_pred_dt = best_dt_model.predict(X_test)\n",
    "\n",
    "# Print best hyperparameters and performance metrics\n",
    "print(\"Best Hyperparameters:\", grid_search.best_params_)\n",
    "print(\"Best CV Accuracy:\", grid_search.best_score_)\n",
    "print(\"\\nTest Metrics for the Best Decision Tree Model:\")\n",
    "print(\"Accuracy:\", accuracy_score(y_test, y_pred_dt))\n",
    "print(\"Precision:\", precision_score(y_test, y_pred_dt, average='weighted', zero_division=0))\n",
    "print(\"Recall:\", recall_score(y_test, y_pred_dt, average='weighted', zero_division=0))\n",
    "print(\"F1 Score:\", f1_score(y_test, y_pred_dt, average='weighted', zero_division=0))\n",
    "print(\"\\nClassification Report:\\n\", classification_report(y_test, y_pred_dt, zero_division=0))"
   ]
  },
  {
   "cell_type": "code",
   "execution_count": null,
   "id": "680b351c",
   "metadata": {
    "papermill": {
     "duration": 0.003619,
     "end_time": "2025-03-26T22:50:13.841135",
     "exception": false,
     "start_time": "2025-03-26T22:50:13.837516",
     "status": "completed"
    },
    "tags": []
   },
   "outputs": [],
   "source": []
  },
  {
   "cell_type": "code",
   "execution_count": null,
   "id": "87a9be11",
   "metadata": {
    "papermill": {
     "duration": 0.003394,
     "end_time": "2025-03-26T22:50:13.848736",
     "exception": false,
     "start_time": "2025-03-26T22:50:13.845342",
     "status": "completed"
    },
    "tags": []
   },
   "outputs": [],
   "source": []
  }
 ],
 "metadata": {
  "kaggle": {
   "accelerator": "none",
   "dataSources": [
    {
     "datasetId": 6827371,
     "sourceId": 10972162,
     "sourceType": "datasetVersion"
    }
   ],
   "dockerImageVersionId": 30918,
   "isGpuEnabled": false,
   "isInternetEnabled": true,
   "language": "python",
   "sourceType": "notebook"
  },
  "kernelspec": {
   "display_name": "Python 3",
   "language": "python",
   "name": "python3"
  },
  "language_info": {
   "codemirror_mode": {
    "name": "ipython",
    "version": 3
   },
   "file_extension": ".py",
   "mimetype": "text/x-python",
   "name": "python",
   "nbconvert_exporter": "python",
   "pygments_lexer": "ipython3",
   "version": "3.10.12"
  },
  "papermill": {
   "default_parameters": {},
   "duration": 3228.420408,
   "end_time": "2025-03-26T22:50:14.880671",
   "environment_variables": {},
   "exception": null,
   "input_path": "__notebook__.ipynb",
   "output_path": "__notebook__.ipynb",
   "parameters": {},
   "start_time": "2025-03-26T21:56:26.460263",
   "version": "2.6.0"
  }
 },
 "nbformat": 4,
 "nbformat_minor": 5
}
